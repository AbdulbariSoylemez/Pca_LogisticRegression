{
 "cells": [
  {
   "cell_type": "code",
   "execution_count": 1,
   "id": "5ee9f880",
   "metadata": {},
   "outputs": [],
   "source": [
    "import pandas as pd\n",
    "import matplotlib.pyplot as plt\n",
    "from sklearn.preprocessing import StandardScaler\n",
    "from sklearn.decomposition import PCA # veri setindeki varyansın büyük bir kısmını koruyarak özellikleri yeniden düzenlemek ve boyutunu azaltmaktır.\n",
    "from sklearn.datasets import fetch_openml  # mist datasetleri yüklemek için \n",
    "from sklearn.preprocessing import StandardScaler\n",
    "from sklearn.decomposition import PCA\n",
    "from sklearn.linear_model import LogisticRegression #Bu algoritma, bir veri noktasını iki veya daha fazla sınıfa ayırmak için kullanılır.\n",
    "from sklearn.model_selection import train_test_split #veri kümesini eğitim ve test veri setlerine ayırmak için kullanılan bir fonksiyondur\n"
   ]
  },
  {
   "cell_type": "code",
   "execution_count": 2,
   "id": "8ad4ce9a",
   "metadata": {},
   "outputs": [
    {
     "data": {
      "text/plain": [
       "(70000, 784)"
      ]
     },
     "execution_count": 2,
     "metadata": {},
     "output_type": "execute_result"
    }
   ],
   "source": [
    "mnist=fetch_openml(\"mnist_784\")\n",
    "mnist.data.shape"
   ]
  },
  {
   "cell_type": "markdown",
   "id": "5d8ff1e4",
   "metadata": {},
   "source": [
    "mnist verilerini görseleştirmeye çalışalım , parametre olarak dataframe ve ilgili veri fotografının index"
   ]
  },
  {
   "cell_type": "code",
   "execution_count": 3,
   "id": "6097623a",
   "metadata": {},
   "outputs": [],
   "source": [
    "def Showimage(dframe,index):\n",
    "    some_digit=dframe.to_numpy()[index]\n",
    "    some_digit_image=some_digit.reshape(28,28)\n",
    "    plt.imshow(some_digit_image,cmap=\"binary\")\n",
    "    plt.axis(\"off\")\n",
    "    plt.show()"
   ]
  },
  {
   "cell_type": "code",
   "execution_count": 4,
   "id": "d5746a47",
   "metadata": {},
   "outputs": [
    {
     "data": {
      "image/png": "[encoded data removed]",
      "text/plain": [
       "<Figure size 640x480 with 1 Axes>"
      ]
     },
     "metadata": {},
     "output_type": "display_data"
    }
   ],
   "source": [
    "Showimage(mnist.data,21)"
   ]
  },
  {
   "cell_type": "markdown",
   "id": "30e329f4",
   "metadata": {},
   "source": [
    "verilerimizi ayıralım bunu kulnmak için train_test_split metodunu kulanmalıyız"
   ]
  },
  {
   "cell_type": "code",
   "execution_count": 5,
   "id": "8b3bf1c0",
   "metadata": {},
   "outputs": [],
   "source": [
    "train_img, test_img, train_lbl, test_lbl = train_test_split(mnist.data ,mnist.target , test_size=1/7.0, random_state=0)"
   ]
  },
  {
   "cell_type": "code",
   "execution_count": 6,
   "id": "973e2a88",
   "metadata": {},
   "outputs": [
    {
     "data": {
      "text/plain": [
       "pandas.core.frame.DataFrame"
      ]
     },
     "execution_count": 6,
     "metadata": {},
     "output_type": "execute_result"
    }
   ],
   "source": [
    "type(train_img)"
   ]
  },
  {
   "cell_type": "code",
   "execution_count": 7,
   "id": "04a3be95",
   "metadata": {},
   "outputs": [],
   "source": [
    "test_img_cop=test_img.copy()"
   ]
  },
  {
   "cell_type": "code",
   "execution_count": 8,
   "id": "f335fbc2",
   "metadata": {},
   "outputs": [
    {
     "data": {
      "image/png": "[encoded data removed]",
      "text/plain": [
       "<Figure size 640x480 with 1 Axes>"
      ]
     },
     "metadata": {},
     "output_type": "display_data"
    }
   ],
   "source": [
    "Showimage(test_img_cop,21)"
   ]
  },
  {
   "cell_type": "markdown",
   "id": "0e66df94",
   "metadata": {},
   "source": [
    "verilerimizi scaler etmemiz gerekiyor çünkü PCA scaler edilmemiş verilerde hata yapıyor "
   ]
  },
  {
   "cell_type": "code",
   "execution_count": 9,
   "id": "90139960",
   "metadata": {},
   "outputs": [],
   "source": [
    "\n",
    "scaler = StandardScaler()\n",
    "\n",
    "# Scaler'ı sadece training set üzerinde fit yapmamız yeterli..\n",
    "scaler.fit(train_img)\n",
    "\n",
    "# Ama transform işlemini hem training sete hem de test sete yapmamız gerekiyor..\n",
    "train_img = scaler.transform(train_img)\n",
    "test_img = scaler.transform(test_img)"
   ]
  },
  {
   "cell_type": "code",
   "execution_count": 10,
   "id": "aa062b5e",
   "metadata": {},
   "outputs": [],
   "source": [
    "pca = PCA(.95)"
   ]
  },
  {
   "cell_type": "markdown",
   "id": "93af3256",
   "metadata": {},
   "source": [
    "\n",
    "PCA işlemini uyguluyoruz..\n",
    "Variance'ın 95% oranında korunmasını istediğimizi belirtiyoruz..\n",
    "\n",
    "Make an instance of the Model"
   ]
  },
  {
   "cell_type": "code",
   "execution_count": 11,
   "id": "60a00a95",
   "metadata": {},
   "outputs": [
    {
     "data": {
      "text/plain": [
       "PCA(n_components=0.95)"
      ]
     },
     "execution_count": 11,
     "metadata": {},
     "output_type": "execute_result"
    }
   ],
   "source": [
    "pca.fit(train_img)"
   ]
  },
  {
   "cell_type": "markdown",
   "id": "0f85260f",
   "metadata": {},
   "source": [
    " Bakalım 784 boyutu kaç boyuta düşürebilmiş (%95 variance'ı koruyarak tabiiki)"
   ]
  },
  {
   "cell_type": "code",
   "execution_count": 13,
   "id": "42b408d3",
   "metadata": {},
   "outputs": [
    {
     "name": "stdout",
     "output_type": "stream",
     "text": [
      "327\n"
     ]
    }
   ],
   "source": [
    "print(pca.n_components_)"
   ]
  },
  {
   "cell_type": "code",
   "execution_count": 14,
   "id": "6256b697",
   "metadata": {},
   "outputs": [],
   "source": [
    "# Şimdi transform işlemiyle hem train hem de test veri setimizin boyutlarını 784'ten 327'e düşürelim:\n",
    "train_img = pca.transform(train_img)\n",
    "test_img = pca.transform(test_img)"
   ]
  },
  {
   "cell_type": "markdown",
   "id": "d196f809",
   "metadata": {},
   "source": [
    "Şimdi 2. Makine Öğrenmesi modelimiz olan Logistic Regression modelimizi PCA işleminden geçirilmiş veris etimiz üzerinde uygulayacağız.\n"
   ]
  },
  {
   "cell_type": "code",
   "execution_count": 16,
   "id": "bee78551",
   "metadata": {},
   "outputs": [],
   "source": [
    "logisticRegr=LogisticRegression(solver=\"lbfgs\",max_iter=10000)"
   ]
  },
  {
   "cell_type": "markdown",
   "id": "130b3aa1",
   "metadata": {},
   "source": [
    "#### LogisticRegression Modelimizi train datamızı kullanarak eğitiyoruz:"
   ]
  },
  {
   "cell_type": "code",
   "execution_count": 17,
   "id": "423760aa",
   "metadata": {},
   "outputs": [
    {
     "data": {
      "text/plain": [
       "LogisticRegression(max_iter=10000)"
      ]
     },
     "execution_count": 17,
     "metadata": {},
     "output_type": "execute_result"
    }
   ],
   "source": [
    "logisticRegr.fit(train_img,train_lbl)"
   ]
  },
  {
   "cell_type": "markdown",
   "id": "3daed10a",
   "metadata": {},
   "source": [
    "##### Modelimiz eğitildi şimdi el yazısı rakamları makine öğrenmesi ile tanıma işlemini gerçekletirelim:\n"
   ]
  },
  {
   "cell_type": "code",
   "execution_count": 21,
   "id": "457c0359",
   "metadata": {},
   "outputs": [
    {
     "data": {
      "text/plain": [
       "array(['0'], dtype=object)"
      ]
     },
     "execution_count": 21,
     "metadata": {},
     "output_type": "execute_result"
    }
   ],
   "source": [
    "logisticRegr.predict(test_img[0].reshape(1,-1))"
   ]
  },
  {
   "cell_type": "code",
   "execution_count": 18,
   "id": "2dfd96d6",
   "metadata": {},
   "outputs": [
    {
     "data": {
      "image/png": "[encoded data removed]",
      "text/plain": [
       "<Figure size 640x480 with 1 Axes>"
      ]
     },
     "metadata": {},
     "output_type": "display_data"
    }
   ],
   "source": [
    "Showimage(test_img_cop,0)"
   ]
  },
  {
   "cell_type": "code",
   "execution_count": 24,
   "id": "ae7ed57e",
   "metadata": {},
   "outputs": [
    {
     "data": {
      "image/png": "[encoded data removed]",
      "text/plain": [
       "<Figure size 640x480 with 1 Axes>"
      ]
     },
     "metadata": {},
     "output_type": "display_data"
    }
   ],
   "source": [
    "Showimage(test_img_cop, 1)"
   ]
  },
  {
   "cell_type": "code",
   "execution_count": 25,
   "id": "d6c3e58a",
   "metadata": {},
   "outputs": [
    {
     "data": {
      "text/plain": [
       "array(['4'], dtype=object)"
      ]
     },
     "execution_count": 25,
     "metadata": {},
     "output_type": "execute_result"
    }
   ],
   "source": [
    "logisticRegr.predict(test_img[1].reshape(1,-1))"
   ]
  },
  {
   "cell_type": "code",
   "execution_count": 26,
   "id": "40a7d725",
   "metadata": {},
   "outputs": [
    {
     "data": {
      "image/png": "[encoded data removed]",
      "text/plain": [
       "<Figure size 640x480 with 1 Axes>"
      ]
     },
     "metadata": {},
     "output_type": "display_data"
    }
   ],
   "source": [
    "Showimage(test_img_cop, 72)"
   ]
  },
  {
   "cell_type": "code",
   "execution_count": 27,
   "id": "2f1e9824",
   "metadata": {},
   "outputs": [
    {
     "data": {
      "text/plain": [
       "array(['3'], dtype=object)"
      ]
     },
     "execution_count": 27,
     "metadata": {},
     "output_type": "execute_result"
    }
   ],
   "source": [
    "logisticRegr.predict(test_img[72].reshape(1,-1))"
   ]
  },
  {
   "cell_type": "markdown",
   "id": "1ebb6a6c",
   "metadata": {},
   "source": [
    "##### şimdi modelimizin doğruluk oranına bakalım "
   ]
  },
  {
   "cell_type": "code",
   "execution_count": 28,
   "id": "e3afa914",
   "metadata": {},
   "outputs": [
    {
     "data": {
      "text/plain": [
       "0.9184"
      ]
     },
     "execution_count": 28,
     "metadata": {},
     "output_type": "execute_result"
    }
   ],
   "source": [
    "logisticRegr.score(test_img,test_lbl)"
   ]
  },
  {
   "cell_type": "code",
   "execution_count": null,
   "id": "06f5cf5d",
   "metadata": {},
   "outputs": [],
   "source": []
  }
 ],
 "metadata": {
  "kernelspec": {
   "display_name": "Python 3 (ipykernel)",
   "language": "python",
   "name": "python3"
  },
  "language_info": {
   "codemirror_mode": {
    "name": "ipython",
    "version": 3
   },
   "file_extension": ".py",
   "mimetype": "text/x-python",
   "name": "python",
   "nbconvert_exporter": "python",
   "pygments_lexer": "ipython3",
   "version": "3.9.13"
  }
 },
 "nbformat": 4,
 "nbformat_minor": 5
}
